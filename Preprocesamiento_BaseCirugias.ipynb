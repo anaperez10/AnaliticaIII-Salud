{
  "nbformat": 4,
  "nbformat_minor": 0,
  "metadata": {
    "colab": {
      "name": "AnalíticaEnSalud.ipynb",
      "provenance": [],
      "collapsed_sections": [],
      "authorship_tag": "ABX9TyPZ4BuXTIss8DYfvYIOWkt5",
      "include_colab_link": true
    },
    "kernelspec": {
      "name": "python3",
      "display_name": "Python 3"
    },
    "language_info": {
      "name": "python"
    }
  },
  "cells": [
    {
      "cell_type": "markdown",
      "metadata": {
        "id": "view-in-github",
        "colab_type": "text"
      },
      "source": [
        "<a href=\"https://colab.research.google.com/github/anaperez10/AnaliticaIII-Salud/blob/main/Preprocesamiento_BaseCirugias.ipynb\" target=\"_parent\"><img src=\"https://colab.research.google.com/assets/colab-badge.svg\" alt=\"Open In Colab\"/></a>"
      ]
    },
    {
      "cell_type": "markdown",
      "source": [
        "**EJERCICIO PRÁCTICO - ANALÍTICA EN SALUD: CANTIDAD DE CIRUGÍAS**"
      ],
      "metadata": {
        "id": "zoai8VNT9y6j"
      }
    },
    {
      "cell_type": "code",
      "execution_count": null,
      "metadata": {
        "id": "Zz_MQSx_9MPF"
      },
      "outputs": [],
      "source": [
        "# Bases de datos a usar:\n",
        "# 1. RETO_df_egresos -> Base de egresos hospitalarios (no aplica en nuestro caso).\n",
        "# 2. RETO_df_cx -> Base de cirugías.\n",
        "# 3. RETO_df_cronicos -> Base de datos crónico\n",
        "# 4. RETO_df_usuarios -> Base de datos con la población mensualmente."
      ]
    },
    {
      "cell_type": "markdown",
      "source": [
        "Importar Bases de datos"
      ],
      "metadata": {
        "id": "I8VAyvVwCsUY"
      }
    },
    {
      "cell_type": "code",
      "source": [
        "#Conexión con colab\n",
        "from google.colab import drive\n",
        "drive.mount('/content/drive')\n",
        "import pandas as pd\n",
        "import numpy as np\n",
        "from unicodedata import normalize"
      ],
      "metadata": {
        "colab": {
          "base_uri": "https://localhost:8080/"
        },
        "id": "K8ihZ9-gCuZa",
        "outputId": "b08300de-c195-45a3-d46e-c9cd6bb29c77"
      },
      "execution_count": 42,
      "outputs": [
        {
          "output_type": "stream",
          "name": "stdout",
          "text": [
            "Drive already mounted at /content/drive; to attempt to forcibly remount, call drive.mount(\"/content/drive\", force_remount=True).\n"
          ]
        }
      ]
    },
    {
      "cell_type": "code",
      "source": [
        "# Leer cada una de las bases de datos.\n",
        "cx = pd.read_csv('/content/drive/MyDrive/CursoAnalitica3/AplicacionesEnSalud/RETO_df_cx.csv')\n",
        "cronicos = pd.read_csv('/content/drive/MyDrive/CursoAnalitica3/AplicacionesEnSalud/RETO_df_cronicos.csv')\n",
        "usuarios = pd.read_csv('/content/drive/MyDrive/CursoAnalitica3/AplicacionesEnSalud/RETO_df_usuarios.csv')\n",
        "egresos = pd.read_csv('/content/drive/MyDrive/CursoAnalitica3/AplicacionesEnSalud/RETO_df_egresos.csv')"
      ],
      "metadata": {
        "id": "HRr0eXvJCxoX"
      },
      "execution_count": null,
      "outputs": []
    },
    {
      "cell_type": "code",
      "source": [
        "cx.shape"
      ],
      "metadata": {
        "colab": {
          "base_uri": "https://localhost:8080/"
        },
        "id": "7nvmhZLMHKXs",
        "outputId": "28aa827f-db4e-45ba-9f61-9b005202323d"
      },
      "execution_count": 44,
      "outputs": [
        {
          "output_type": "execute_result",
          "data": {
            "text/plain": [
              "(2370, 77)"
            ]
          },
          "metadata": {},
          "execution_count": 44
        }
      ]
    },
    {
      "cell_type": "code",
      "source": [
        "cx.head()"
      ],
      "metadata": {
        "colab": {
          "base_uri": "https://localhost:8080/",
          "height": 421
        },
        "id": "GZC_0vcmHRaR",
        "outputId": "e8b2a74d-b420-4375-9799-a9de6b7758bf"
      },
      "execution_count": 46,
      "outputs": [
        {
          "output_type": "execute_result",
          "data": {
            "text/plain": [
              "   YEAR    MES  CODIGO SERVICIO HABILITACION SERVICIO HABILITACION  \\\n",
              "0  2017  ABRIL                         203.0       Cirugía General   \n",
              "1  2017  ABRIL                         203.0       Cirugía General   \n",
              "2  2017  ABRIL                         203.0       Cirugía General   \n",
              "3  2017  ABRIL                         203.0       Cirugía General   \n",
              "4  2017  ABRIL                         203.0       Cirugía General   \n",
              "\n",
              "  TIPO IDENTIFICACION  NRODOC FECHA NACIMIENTO REGIMEN  CODIGO EPS  \\\n",
              "0                  CC  306809              NaN     NaN         NaN   \n",
              "1                  CC  306809              NaN     NaN         NaN   \n",
              "2                  CC  306809              NaN     NaN         NaN   \n",
              "3                  CC  306809              NaN     NaN         NaN   \n",
              "4                  CC  306809              NaN     NaN         NaN   \n",
              "\n",
              "  DESCRIPCION EPS VALIDADA  ... COD DIAGNOSTICO POSTQUIRURGICO  \\\n",
              "0                      NaN  ...                            NaN   \n",
              "1                      NaN  ...                            NaN   \n",
              "2                      NaN  ...                            NaN   \n",
              "3                      NaN  ...                            NaN   \n",
              "4                      NaN  ...                            NaN   \n",
              "\n",
              "  DIAGNOSTICO POSTQUIRURGICO TIPO DE HERIDA TIPO AISLAMIENTO COMPLICACIONES  \\\n",
              "0                        NaN          Sucia              NaN            NaN   \n",
              "1                        NaN          Sucia              NaN            NaN   \n",
              "2                        NaN          Sucia              NaN            NaN   \n",
              "3                        NaN          Sucia              NaN            NaN   \n",
              "4                        NaN          Sucia              NaN            NaN   \n",
              "\n",
              "  CATEGORIA COMPLICACION     ESPECIALIDAD       SEDE IDCX ADMISION  \n",
              "0                    NaN  Cirugia General  LEON XIII  NaN  3395320  \n",
              "1                    NaN  Cirugia General  LEON XIII  NaN  3395320  \n",
              "2                    NaN  Cirugia General  LEON XIII  NaN  3395320  \n",
              "3                    NaN  Cirugia General  LEON XIII  NaN  3395320  \n",
              "4                    NaN  Cirugia General  LEON XIII  NaN  3395320  \n",
              "\n",
              "[5 rows x 77 columns]"
            ],
            "text/html": [
              "\n",
              "  <div id=\"df-37342d03-e746-4e7b-8b01-af390707c9eb\">\n",
              "    <div class=\"colab-df-container\">\n",
              "      <div>\n",
              "<style scoped>\n",
              "    .dataframe tbody tr th:only-of-type {\n",
              "        vertical-align: middle;\n",
              "    }\n",
              "\n",
              "    .dataframe tbody tr th {\n",
              "        vertical-align: top;\n",
              "    }\n",
              "\n",
              "    .dataframe thead th {\n",
              "        text-align: right;\n",
              "    }\n",
              "</style>\n",
              "<table border=\"1\" class=\"dataframe\">\n",
              "  <thead>\n",
              "    <tr style=\"text-align: right;\">\n",
              "      <th></th>\n",
              "      <th>YEAR</th>\n",
              "      <th>MES</th>\n",
              "      <th>CODIGO SERVICIO HABILITACION</th>\n",
              "      <th>SERVICIO HABILITACION</th>\n",
              "      <th>TIPO IDENTIFICACION</th>\n",
              "      <th>NRODOC</th>\n",
              "      <th>FECHA NACIMIENTO</th>\n",
              "      <th>REGIMEN</th>\n",
              "      <th>CODIGO EPS</th>\n",
              "      <th>DESCRIPCION EPS VALIDADA</th>\n",
              "      <th>...</th>\n",
              "      <th>COD DIAGNOSTICO POSTQUIRURGICO</th>\n",
              "      <th>DIAGNOSTICO POSTQUIRURGICO</th>\n",
              "      <th>TIPO DE HERIDA</th>\n",
              "      <th>TIPO AISLAMIENTO</th>\n",
              "      <th>COMPLICACIONES</th>\n",
              "      <th>CATEGORIA COMPLICACION</th>\n",
              "      <th>ESPECIALIDAD</th>\n",
              "      <th>SEDE</th>\n",
              "      <th>IDCX</th>\n",
              "      <th>ADMISION</th>\n",
              "    </tr>\n",
              "  </thead>\n",
              "  <tbody>\n",
              "    <tr>\n",
              "      <th>0</th>\n",
              "      <td>2017</td>\n",
              "      <td>ABRIL</td>\n",
              "      <td>203.0</td>\n",
              "      <td>Cirugía General</td>\n",
              "      <td>CC</td>\n",
              "      <td>306809</td>\n",
              "      <td>NaN</td>\n",
              "      <td>NaN</td>\n",
              "      <td>NaN</td>\n",
              "      <td>NaN</td>\n",
              "      <td>...</td>\n",
              "      <td>NaN</td>\n",
              "      <td>NaN</td>\n",
              "      <td>Sucia</td>\n",
              "      <td>NaN</td>\n",
              "      <td>NaN</td>\n",
              "      <td>NaN</td>\n",
              "      <td>Cirugia General</td>\n",
              "      <td>LEON XIII</td>\n",
              "      <td>NaN</td>\n",
              "      <td>3395320</td>\n",
              "    </tr>\n",
              "    <tr>\n",
              "      <th>1</th>\n",
              "      <td>2017</td>\n",
              "      <td>ABRIL</td>\n",
              "      <td>203.0</td>\n",
              "      <td>Cirugía General</td>\n",
              "      <td>CC</td>\n",
              "      <td>306809</td>\n",
              "      <td>NaN</td>\n",
              "      <td>NaN</td>\n",
              "      <td>NaN</td>\n",
              "      <td>NaN</td>\n",
              "      <td>...</td>\n",
              "      <td>NaN</td>\n",
              "      <td>NaN</td>\n",
              "      <td>Sucia</td>\n",
              "      <td>NaN</td>\n",
              "      <td>NaN</td>\n",
              "      <td>NaN</td>\n",
              "      <td>Cirugia General</td>\n",
              "      <td>LEON XIII</td>\n",
              "      <td>NaN</td>\n",
              "      <td>3395320</td>\n",
              "    </tr>\n",
              "    <tr>\n",
              "      <th>2</th>\n",
              "      <td>2017</td>\n",
              "      <td>ABRIL</td>\n",
              "      <td>203.0</td>\n",
              "      <td>Cirugía General</td>\n",
              "      <td>CC</td>\n",
              "      <td>306809</td>\n",
              "      <td>NaN</td>\n",
              "      <td>NaN</td>\n",
              "      <td>NaN</td>\n",
              "      <td>NaN</td>\n",
              "      <td>...</td>\n",
              "      <td>NaN</td>\n",
              "      <td>NaN</td>\n",
              "      <td>Sucia</td>\n",
              "      <td>NaN</td>\n",
              "      <td>NaN</td>\n",
              "      <td>NaN</td>\n",
              "      <td>Cirugia General</td>\n",
              "      <td>LEON XIII</td>\n",
              "      <td>NaN</td>\n",
              "      <td>3395320</td>\n",
              "    </tr>\n",
              "    <tr>\n",
              "      <th>3</th>\n",
              "      <td>2017</td>\n",
              "      <td>ABRIL</td>\n",
              "      <td>203.0</td>\n",
              "      <td>Cirugía General</td>\n",
              "      <td>CC</td>\n",
              "      <td>306809</td>\n",
              "      <td>NaN</td>\n",
              "      <td>NaN</td>\n",
              "      <td>NaN</td>\n",
              "      <td>NaN</td>\n",
              "      <td>...</td>\n",
              "      <td>NaN</td>\n",
              "      <td>NaN</td>\n",
              "      <td>Sucia</td>\n",
              "      <td>NaN</td>\n",
              "      <td>NaN</td>\n",
              "      <td>NaN</td>\n",
              "      <td>Cirugia General</td>\n",
              "      <td>LEON XIII</td>\n",
              "      <td>NaN</td>\n",
              "      <td>3395320</td>\n",
              "    </tr>\n",
              "    <tr>\n",
              "      <th>4</th>\n",
              "      <td>2017</td>\n",
              "      <td>ABRIL</td>\n",
              "      <td>203.0</td>\n",
              "      <td>Cirugía General</td>\n",
              "      <td>CC</td>\n",
              "      <td>306809</td>\n",
              "      <td>NaN</td>\n",
              "      <td>NaN</td>\n",
              "      <td>NaN</td>\n",
              "      <td>NaN</td>\n",
              "      <td>...</td>\n",
              "      <td>NaN</td>\n",
              "      <td>NaN</td>\n",
              "      <td>Sucia</td>\n",
              "      <td>NaN</td>\n",
              "      <td>NaN</td>\n",
              "      <td>NaN</td>\n",
              "      <td>Cirugia General</td>\n",
              "      <td>LEON XIII</td>\n",
              "      <td>NaN</td>\n",
              "      <td>3395320</td>\n",
              "    </tr>\n",
              "  </tbody>\n",
              "</table>\n",
              "<p>5 rows × 77 columns</p>\n",
              "</div>\n",
              "      <button class=\"colab-df-convert\" onclick=\"convertToInteractive('df-37342d03-e746-4e7b-8b01-af390707c9eb')\"\n",
              "              title=\"Convert this dataframe to an interactive table.\"\n",
              "              style=\"display:none;\">\n",
              "        \n",
              "  <svg xmlns=\"http://www.w3.org/2000/svg\" height=\"24px\"viewBox=\"0 0 24 24\"\n",
              "       width=\"24px\">\n",
              "    <path d=\"M0 0h24v24H0V0z\" fill=\"none\"/>\n",
              "    <path d=\"M18.56 5.44l.94 2.06.94-2.06 2.06-.94-2.06-.94-.94-2.06-.94 2.06-2.06.94zm-11 1L8.5 8.5l.94-2.06 2.06-.94-2.06-.94L8.5 2.5l-.94 2.06-2.06.94zm10 10l.94 2.06.94-2.06 2.06-.94-2.06-.94-.94-2.06-.94 2.06-2.06.94z\"/><path d=\"M17.41 7.96l-1.37-1.37c-.4-.4-.92-.59-1.43-.59-.52 0-1.04.2-1.43.59L10.3 9.45l-7.72 7.72c-.78.78-.78 2.05 0 2.83L4 21.41c.39.39.9.59 1.41.59.51 0 1.02-.2 1.41-.59l7.78-7.78 2.81-2.81c.8-.78.8-2.07 0-2.86zM5.41 20L4 18.59l7.72-7.72 1.47 1.35L5.41 20z\"/>\n",
              "  </svg>\n",
              "      </button>\n",
              "      \n",
              "  <style>\n",
              "    .colab-df-container {\n",
              "      display:flex;\n",
              "      flex-wrap:wrap;\n",
              "      gap: 12px;\n",
              "    }\n",
              "\n",
              "    .colab-df-convert {\n",
              "      background-color: #E8F0FE;\n",
              "      border: none;\n",
              "      border-radius: 50%;\n",
              "      cursor: pointer;\n",
              "      display: none;\n",
              "      fill: #1967D2;\n",
              "      height: 32px;\n",
              "      padding: 0 0 0 0;\n",
              "      width: 32px;\n",
              "    }\n",
              "\n",
              "    .colab-df-convert:hover {\n",
              "      background-color: #E2EBFA;\n",
              "      box-shadow: 0px 1px 2px rgba(60, 64, 67, 0.3), 0px 1px 3px 1px rgba(60, 64, 67, 0.15);\n",
              "      fill: #174EA6;\n",
              "    }\n",
              "\n",
              "    [theme=dark] .colab-df-convert {\n",
              "      background-color: #3B4455;\n",
              "      fill: #D2E3FC;\n",
              "    }\n",
              "\n",
              "    [theme=dark] .colab-df-convert:hover {\n",
              "      background-color: #434B5C;\n",
              "      box-shadow: 0px 1px 3px 1px rgba(0, 0, 0, 0.15);\n",
              "      filter: drop-shadow(0px 1px 2px rgba(0, 0, 0, 0.3));\n",
              "      fill: #FFFFFF;\n",
              "    }\n",
              "  </style>\n",
              "\n",
              "      <script>\n",
              "        const buttonEl =\n",
              "          document.querySelector('#df-37342d03-e746-4e7b-8b01-af390707c9eb button.colab-df-convert');\n",
              "        buttonEl.style.display =\n",
              "          google.colab.kernel.accessAllowed ? 'block' : 'none';\n",
              "\n",
              "        async function convertToInteractive(key) {\n",
              "          const element = document.querySelector('#df-37342d03-e746-4e7b-8b01-af390707c9eb');\n",
              "          const dataTable =\n",
              "            await google.colab.kernel.invokeFunction('convertToInteractive',\n",
              "                                                     [key], {});\n",
              "          if (!dataTable) return;\n",
              "\n",
              "          const docLinkHtml = 'Like what you see? Visit the ' +\n",
              "            '<a target=\"_blank\" href=https://colab.research.google.com/notebooks/data_table.ipynb>data table notebook</a>'\n",
              "            + ' to learn more about interactive tables.';\n",
              "          element.innerHTML = '';\n",
              "          dataTable['output_type'] = 'display_data';\n",
              "          await google.colab.output.renderOutput(dataTable, element);\n",
              "          const docLink = document.createElement('div');\n",
              "          docLink.innerHTML = docLinkHtml;\n",
              "          element.appendChild(docLink);\n",
              "        }\n",
              "      </script>\n",
              "    </div>\n",
              "  </div>\n",
              "  "
            ]
          },
          "metadata": {},
          "execution_count": 46
        }
      ]
    },
    {
      "cell_type": "code",
      "source": [
        "cx.info()"
      ],
      "metadata": {
        "colab": {
          "base_uri": "https://localhost:8080/"
        },
        "id": "FpTeQ49XEqCL",
        "outputId": "a1804433-3fcd-4827-dd65-fc061720811d"
      },
      "execution_count": 47,
      "outputs": [
        {
          "output_type": "stream",
          "name": "stdout",
          "text": [
            "<class 'pandas.core.frame.DataFrame'>\n",
            "RangeIndex: 2370 entries, 0 to 2369\n",
            "Data columns (total 77 columns):\n",
            " #   Column                          Non-Null Count  Dtype  \n",
            "---  ------                          --------------  -----  \n",
            " 0   YEAR                            2370 non-null   int64  \n",
            " 1   MES                             2370 non-null   object \n",
            " 2   CODIGO SERVICIO HABILITACION    1988 non-null   float64\n",
            " 3   SERVICIO HABILITACION           1988 non-null   object \n",
            " 4   TIPO IDENTIFICACION             2370 non-null   object \n",
            " 5   NRODOC                          2370 non-null   int64  \n",
            " 6   FECHA NACIMIENTO                2282 non-null   object \n",
            " 7   REGIMEN                         1851 non-null   object \n",
            " 8   CODIGO EPS                      1580 non-null   float64\n",
            " 9   DESCRIPCION EPS VALIDADA        1087 non-null   object \n",
            " 10  FECHA ORDEN                     2364 non-null   object \n",
            " 11  HORA ORDEN                      1087 non-null   object \n",
            " 12  ORIGEN ORDEN                    1580 non-null   object \n",
            " 13  FECHA AUDITA ORDEN              1556 non-null   object \n",
            " 14  HORA AUDITA ORDEN               951 non-null    object \n",
            " 15  ORIGEN ADMSION                  1580 non-null   object \n",
            " 16  BLOQUE                          879 non-null    object \n",
            " 17  PISO                            879 non-null    object \n",
            " 18  SERVICIO                        542 non-null    object \n",
            " 19  BLOQUE DESTINO                  1580 non-null   object \n",
            " 20  CAMA DESTINO                    1941 non-null   object \n",
            " 21  PISO DESTINO                    1580 non-null   object \n",
            " 22  SERVICIO DESTINO                1580 non-null   object \n",
            " 23  QUIROFANO                       2370 non-null   object \n",
            " 24  TIPO PROCEDIMIENTO              1447 non-null   object \n",
            " 25  FECHA PREANESTESIA              1526 non-null   object \n",
            " 26  ASA                             1620 non-null   object \n",
            " 27  FECHA CIRUGIA                   2301 non-null   object \n",
            " 28  HORA CIRUGIA                    1087 non-null   object \n",
            " 29  HORA ENTRADA QX                 2009 non-null   object \n",
            " 30  HORA INICIO ANESTESIA           1362 non-null   object \n",
            " 31  TIPO DE ANESTESIA               1777 non-null   object \n",
            " 32  HORA INICIO CX                  2005 non-null   object \n",
            " 33  HORA FIN CX                     2003 non-null   object \n",
            " 34  HORA FIN ANESTESIA              1366 non-null   object \n",
            " 35  FECHA RECUPERACION CX           1717 non-null   object \n",
            " 36  HORA SALIDA QX                  2009 non-null   object \n",
            " 37  VIA                             1087 non-null   object \n",
            " 38  COD CUPS                        2009 non-null   object \n",
            " 39  NOMBRE DE PROCEDIMIENTO         2009 non-null   object \n",
            " 40  PROCEDIMIENTO 0256              1825 non-null   float64\n",
            " 41  CODCUPS1                        860 non-null    object \n",
            " 42  PROCEDIMIENTOCIRUGIA1           860 non-null    object \n",
            " 43  CODCUPS2                        164 non-null    float64\n",
            " 44  PROCEDIMIENTOCIRUGIA2           164 non-null    object \n",
            " 45  CODCUPS3                        39 non-null     float64\n",
            " 46  PROCEDIMIENTOCIRUGIA3           39 non-null     object \n",
            " 47  CODCUPS4                        5 non-null      float64\n",
            " 48  PROCEDIMIENTOCIRUGIA4           5 non-null      object \n",
            " 49  CODCUPS5                        1 non-null      float64\n",
            " 50  PROCEDIMIENTOCIRUGIA5           1 non-null      object \n",
            " 51  CODCUPS6                        0 non-null      float64\n",
            " 52  PROCEDIMIENTOCIRUGIA6           0 non-null      float64\n",
            " 53  CODCUPS7                        0 non-null      float64\n",
            " 54  PROCEDIMIENTOCIRUGIA7           0 non-null      float64\n",
            " 55  CODCUPS8                        0 non-null      float64\n",
            " 56  PROCEDIMIENTOCIRUGIA8           0 non-null      float64\n",
            " 57  CODCUPS9                        0 non-null      float64\n",
            " 58  PROCEDIMIENTOCIRUGIA9           0 non-null      float64\n",
            " 59  CODCUPS10                       0 non-null      float64\n",
            " 60  PROCEDIMIENTOCIRUGIA10          0 non-null      float64\n",
            " 61  COD DIAGNOSTICO PREQUIRURGICO   2025 non-null   object \n",
            " 62  DESCRIPCION PREQUIRURGICO       2024 non-null   object \n",
            " 63  CIE 10 TERCER CARACTER          2012 non-null   object \n",
            " 64  DESCRIPCION TERCER CARACTER     2012 non-null   object \n",
            " 65  CAPITULO CIE10                  2012 non-null   object \n",
            " 66  NOMBRE CAPITULO                 2012 non-null   object \n",
            " 67  COD DIAGNOSTICO POSTQUIRURGICO  1904 non-null   object \n",
            " 68  DIAGNOSTICO POSTQUIRURGICO      1904 non-null   object \n",
            " 69  TIPO DE HERIDA                  1941 non-null   object \n",
            " 70  TIPO AISLAMIENTO                117 non-null    object \n",
            " 71  COMPLICACIONES                  1509 non-null   object \n",
            " 72  CATEGORIA COMPLICACION          1087 non-null   float64\n",
            " 73  ESPECIALIDAD                    2370 non-null   object \n",
            " 74  SEDE                            2370 non-null   object \n",
            " 75  IDCX                            1087 non-null   float64\n",
            " 76  ADMISION                        2370 non-null   int64  \n",
            "dtypes: float64(19), int64(3), object(55)\n",
            "memory usage: 1.4+ MB\n"
          ]
        }
      ]
    },
    {
      "cell_type": "markdown",
      "source": [
        "1. Depuración BD Cirugías (cx)"
      ],
      "metadata": {
        "id": "MEl0EW8aIddV"
      }
    },
    {
      "cell_type": "code",
      "source": [
        "# Eliminamos las variables en donde más del 63% de sus datos son nulos, tales como:\n",
        "cx = cx.drop(['CODCUPS1', 'PROCEDIMIENTOCIRUGIA1', 'CODCUPS2', 'PROCEDIMIENTOCIRUGIA2', 'CODCUPS3', 'PROCEDIMIENTOCIRUGIA3',\n",
        "              'CODCUPS4', 'PROCEDIMIENTOCIRUGIA4', 'CODCUPS5', 'PROCEDIMIENTOCIRUGIA5', 'CODCUPS6', 'PROCEDIMIENTOCIRUGIA6',\n",
        "              'CODCUPS7', 'PROCEDIMIENTOCIRUGIA7', 'CODCUPS8', 'PROCEDIMIENTOCIRUGIA8', 'CODCUPS9', 'PROCEDIMIENTOCIRUGIA9',\n",
        "              'CODCUPS10', 'PROCEDIMIENTOCIRUGIA10', 'BLOQUE', 'PISO', 'SERVICIO', 'BLOQUE DESTINO', 'CAMA DESTINO', 'PISO DESTINO',\n",
        "              'SERVICIO DESTINO'], axis = 1)"
      ],
      "metadata": {
        "id": "MbGjXwNBIjOT"
      },
      "execution_count": 48,
      "outputs": []
    },
    {
      "cell_type": "code",
      "source": [
        "cx.shape"
      ],
      "metadata": {
        "colab": {
          "base_uri": "https://localhost:8080/"
        },
        "id": "WzTp71-rQv6R",
        "outputId": "89f2b9d3-e75c-41a4-d36d-ea54948239e4"
      },
      "execution_count": 49,
      "outputs": [
        {
          "output_type": "execute_result",
          "data": {
            "text/plain": [
              "(2370, 50)"
            ]
          },
          "metadata": {},
          "execution_count": 49
        }
      ]
    },
    {
      "cell_type": "code",
      "source": [
        "print(cx[['HORA ORDEN']].isnull().sum())\n",
        "print(cx[['HORA AUDITA ORDEN']].isnull().sum())"
      ],
      "metadata": {
        "colab": {
          "base_uri": "https://localhost:8080/"
        },
        "id": "V3xKpoISN6MY",
        "outputId": "8506a413-25ab-4eea-8020-3ea2bba2d47e"
      },
      "execution_count": 50,
      "outputs": [
        {
          "output_type": "stream",
          "name": "stdout",
          "text": [
            "HORA ORDEN    1283\n",
            "dtype: int64\n",
            "HORA AUDITA ORDEN    1419\n",
            "dtype: int64\n"
          ]
        }
      ]
    },
    {
      "cell_type": "code",
      "source": [
        "print(cx[['FECHA ORDEN']].isnull().sum())\n",
        "print(cx[['FECHA AUDITA ORDEN']].isnull().sum())"
      ],
      "metadata": {
        "colab": {
          "base_uri": "https://localhost:8080/"
        },
        "id": "TmvKnMcbOGGU",
        "outputId": "2d6eda49-9472-40c0-db31-d39e433ad8cd"
      },
      "execution_count": 51,
      "outputs": [
        {
          "output_type": "stream",
          "name": "stdout",
          "text": [
            "FECHA ORDEN    6\n",
            "dtype: int64\n",
            "FECHA AUDITA ORDEN    814\n",
            "dtype: int64\n"
          ]
        }
      ]
    },
    {
      "cell_type": "code",
      "source": [
        "# Cuando se hace la comparación de fecha orden vs fecha audita orden se observa que la última tiene gran cantidad de nulos.\n",
        "# Además, los registros que tienen en común son la misma fecha, por ende, se decide eliminar FECHA AUDITA ORDEN.\n",
        "# Lo mismo pasa con la hora orden vs hora audita orden, las horas son semejantes y por un inicio no creemos necesaria\n",
        "# dicha variable, por ende se decide eliminar ambas.\n",
        "# Otras variables a eliminar: ASA porque no tiene congruencia con la clasificación del diccionario, HORA CIRUGIA - HORA ENTRADA QX,\n",
        "# HORA INICIO ANESTESIA, HORA INICIO CX, HORA FIN CX, HORA FIN ANESTECIA, HORA SALIDA CX porque nuestro tema a tratar es cantidad \n",
        "# de cirugías, mas no tiempo quirúrgico.\n",
        "cx = cx.drop(['FECHA AUDITA ORDEN', 'HORA AUDITA ORDEN', 'HORA ORDEN', 'HORA CIRUGIA', 'HORA ENTRADA QX', 'HORA INICIO ANESTESIA',\n",
        "              'HORA INICIO CX', 'HORA FIN CX', 'HORA FIN CX', 'HORA FIN ANESTESIA', 'HORA SALIDA QX'], axis =1)"
      ],
      "metadata": {
        "id": "KqHq329rSBVV"
      },
      "execution_count": 52,
      "outputs": []
    },
    {
      "cell_type": "code",
      "source": [
        "cx.shape"
      ],
      "metadata": {
        "colab": {
          "base_uri": "https://localhost:8080/"
        },
        "id": "dg4Zml8lyig9",
        "outputId": "aa740308-158b-4ba6-9bc1-a9963bc4b6f0"
      },
      "execution_count": 53,
      "outputs": [
        {
          "output_type": "execute_result",
          "data": {
            "text/plain": [
              "(2370, 40)"
            ]
          },
          "metadata": {},
          "execution_count": 53
        }
      ]
    },
    {
      "cell_type": "code",
      "source": [
        "# Convertimos las fechas en formato datetime\n",
        "cx['FECHA NACIMIENTO'] = pd.to_datetime(cx['FECHA NACIMIENTO'])\n",
        "cx['FECHA ORDEN'] = pd.to_datetime(cx['FECHA NACIMIENTO'])\n",
        "cx['FECHA PREANESTESIA'] = pd.to_datetime(cx['FECHA NACIMIENTO'])\n",
        "cx['FECHA CIRUGIA'] = pd.to_datetime(cx['FECHA NACIMIENTO'])\n",
        "cx['FECHA RECUPERACION CX'] = pd.to_datetime(cx['FECHA NACIMIENTO'])"
      ],
      "metadata": {
        "id": "Zhxmzifvzbis"
      },
      "execution_count": 54,
      "outputs": []
    },
    {
      "cell_type": "code",
      "source": [
        "# Aplicar funciones para homologar a nivel general.\n",
        "lista = ['SERVICIO HABILITACION', 'REGIMEN', 'DESCRIPCION EPS VALIDADA',\n",
        "       'ORIGEN ORDEN', 'ORIGEN ADMSION', 'QUIROFANO', 'TIPO PROCEDIMIENTO',\n",
        "       'TIPO DE ANESTESIA', 'VIA',\n",
        "       'TIPO DE HERIDA', 'ESPECIALIDAD']\n",
        "for i in lista:\n",
        "    cx[i] = cx[i].str.lower() #minuscula\n",
        "    cx[i] = cx[i].str.strip() #espacios\n",
        "    cx[i] = cx[i].apply(lambda x: normalize(\"NFKD\", x).encode(\"ascii\", \"ignore\").decode(\"ascii\") if pd.notnull(x) else x)"
      ],
      "metadata": {
        "id": "sdeSzOju07Rw"
      },
      "execution_count": 55,
      "outputs": []
    },
    {
      "cell_type": "code",
      "source": [
        "# Imprimimos las categorías de las variables\n",
        "lista = ['SERVICIO HABILITACION', 'REGIMEN', 'DESCRIPCION EPS VALIDADA',\n",
        "       'ORIGEN ORDEN', 'ORIGEN ADMSION', 'QUIROFANO', 'TIPO PROCEDIMIENTO',\n",
        "       'TIPO DE ANESTESIA', 'VIA',\n",
        "       'TIPO DE HERIDA', 'ESPECIALIDAD']\n",
        "for i in lista:\n",
        "    print(cx[i].value_counts())\n",
        "    print('------------------------------------')"
      ],
      "metadata": {
        "colab": {
          "base_uri": "https://localhost:8080/"
        },
        "id": "F7z_eluq3Gd3",
        "outputId": "7a997563-dc28-46b6-fab4-0722fad606b3"
      },
      "execution_count": 56,
      "outputs": [
        {
          "output_type": "stream",
          "name": "stdout",
          "text": [
            "cirugia ortopedica                           620\n",
            "cirugia general                              401\n",
            "otras cirugias                               284\n",
            "cirugia urologica                            153\n",
            "cirugia vascular y angiologica               150\n",
            "cirugia plastica y estetica                  126\n",
            "cirugia ginecologica                          48\n",
            "cirugia otorrinolaringologia                  39\n",
            "cirugia de torax                              37\n",
            "cirugia neurologica                           35\n",
            "neurocirugia                                  19\n",
            "cirugia gastrointestinal                      18\n",
            "cirugia cardiovascular                        12\n",
            "cirugia oncologica                            11\n",
            "cirugia endovascular neurologica              10\n",
            "cirugia general (cirugia cabeza y cuello)      8\n",
            "cirugia maxilofacial                           8\n",
            "trasplante de tejido osteomuscular             2\n",
            "cirugia oftalmologica                          2\n",
            "trasplante osteomuscular                       2\n",
            "cirugia de cabeza y cuello                     2\n",
            "trasplante tejidos cardiovasculares            1\n",
            "Name: SERVICIO HABILITACION, dtype: int64\n",
            "------------------------------------\n",
            "subsidiado      1438\n",
            "contributivo     412\n",
            "no aplica          1\n",
            "Name: REGIMEN, dtype: int64\n",
            "------------------------------------\n",
            "nueva eps s.a. pgp           766\n",
            "nueva eps s.a.               315\n",
            "no afiliado particular         3\n",
            "ensayo clinico                 2\n",
            "axa seguros colpatria s.a      1\n",
            "Name: DESCRIPCION EPS VALIDADA, dtype: int64\n",
            "------------------------------------\n",
            "ambulatorio          1038\n",
            "hospitalizacion       380\n",
            "urgencias adultos     162\n",
            "Name: ORIGEN ORDEN, dtype: int64\n",
            "------------------------------------\n",
            "cirugia                       650\n",
            "urgencias generales sotano    531\n",
            "hospitalizacion               309\n",
            "urgencias generales            60\n",
            "urgencias generales piso 1     22\n",
            "ambulatorio personal            6\n",
            "ambulatoria programada          1\n",
            "ambulatoria personal            1\n",
            "Name: ORIGEN ADMSION, dtype: int64\n",
            "------------------------------------\n",
            "sala 12               317\n",
            "sala procedimentos    289\n",
            "sala 11               155\n",
            "sala 14               142\n",
            "sala 13               128\n",
            "sala 2                127\n",
            "sala 3                123\n",
            "sala 1                102\n",
            "sala 9                 83\n",
            "quirofano 2            80\n",
            "sala 10                76\n",
            "sala 5                 67\n",
            "sala 6                 61\n",
            "sala 7                 58\n",
            "quirofano 4            55\n",
            "11                     52\n",
            "12                     49\n",
            "2                      43\n",
            "sala 8                 41\n",
            "sala 4                 40\n",
            "quirofano 1            39\n",
            "13                     36\n",
            "1                      34\n",
            "14                     33\n",
            "quirofano 3            26\n",
            "5                      23\n",
            "10                     20\n",
            "9                      19\n",
            "3                      19\n",
            "6                      15\n",
            "4                       9\n",
            "8                       8\n",
            "7                       1\n",
            "Name: QUIROFANO, dtype: int64\n",
            "------------------------------------\n",
            "quirurgicas               646\n",
            "quirurgicos               386\n",
            "procedimientos menores    289\n",
            "cirugias                   71\n",
            "no quirurgico              35\n",
            "quirurgico                 20\n",
            "Name: TIPO PROCEDIMIENTO, dtype: int64\n",
            "------------------------------------\n",
            "general                   861\n",
            "raquidea                  387\n",
            "local                     284\n",
            "bloqueo                   111\n",
            "local asistida             83\n",
            "ninguna                    39\n",
            "epidural                    7\n",
            "caudal                      4\n",
            "sin informe quirurgico      1\n",
            "Name: TIPO DE ANESTESIA, dtype: int64\n",
            "------------------------------------\n",
            "unica via                                                      601\n",
            "multiple procedimiento mismo especialista igual via            304\n",
            "multiple procedimiento mismo especialista diferente via        176\n",
            "bilateral                                                        3\n",
            "multiple procedimiento diferente especialista igual via          2\n",
            "multiple procedimiento diferente especialista diferente via      1\n",
            "Name: VIA, dtype: int64\n",
            "------------------------------------\n",
            "limpia                    912\n",
            "limpia contaminada        402\n",
            "contaminada               289\n",
            "sucia                     234\n",
            "sin informe quirurgico     88\n",
            "no registra                11\n",
            "no aplica                   5\n",
            "Name: TIPO DE HERIDA, dtype: int64\n",
            "------------------------------------\n",
            "ortopedia                                      624\n",
            "cirugia general                                350\n",
            "dermatologia                                   315\n",
            "urologia                                       154\n",
            "cirugia vascular                               146\n",
            "medicina del dolor y cuidado paleativo         138\n",
            "cirugia plastica                                87\n",
            "medicina del dolor y cuidado paliativo          80\n",
            "neurocirugia                                    54\n",
            "endovascular (hemodinamia)                      45\n",
            "otorrinolaringologia                            41\n",
            "cirugia plastica- maxilofacial y de la mano     39\n",
            "anestesiologia                                  36\n",
            "cpre                                            35\n",
            "ginecologia                                     29\n",
            "cirugia torax                                   25\n",
            "odontologia general                             22\n",
            "cirugia gastroenterologia - cpre                20\n",
            "gine oncologia                                  19\n",
            "cirugia cardiovascular                          12\n",
            "neumologia                                      12\n",
            "medicina general                                11\n",
            "hepatobiliopancreatica                          11\n",
            "fisiatria                                       10\n",
            "cirugia de cabeza y cuello                      10\n",
            "cirugia oncologica                               9\n",
            "cirugia maxilofacial                             8\n",
            "neurologia                                       8\n",
            "cirugia hepatobiliopancreatica                   6\n",
            "odontologia                                      6\n",
            "gineco oncologia                                 4\n",
            "oftalmologia                                     2\n",
            "cirugia de trasplante                            1\n",
            "ortopedia oncologica                             1\n",
            "Name: ESPECIALIDAD, dtype: int64\n",
            "------------------------------------\n"
          ]
        }
      ]
    },
    {
      "cell_type": "code",
      "source": [
        "# Homologar los valores de las anteriores variables\n",
        "cx['SERVICIO HABILITACION'] = cx['SERVICIO HABILITACION'].replace(['cirugia general (cirugia cabeza y cuello)', 'cirugia de cabeza y cuello'], 'cirugia general')\n",
        "cx['SERVICIO HABILITACION'] = cx['SERVICIO HABILITACION'].replace(['cirugia maxilofacial', 'trasplante de tejido osteomuscular', 'cirugia oftalmologica', 'rasplante osteomuscular', 'trasplante tejidos cardiovasculares'], 'otras cirugias')\n",
        "cx['REGIMEN'] = cx['REGIMEN'].replace({'no aplica': 'contributivo'})\n",
        "cx['DESCRIPCION EPS VALIDADA'] = cx['DESCRIPCION EPS VALIDADA'].replace(['nueva eps s.a. pgp', 'no afiliado particular', 'ensayo clinico', 'axa seguros colpatria s.a'], 'nueva eps s.a.')\n",
        "cx['QUIROFANO'] = cx['QUIROFANO'].replace(['sala 1', 'quirofano 1'], '1')\n",
        "cx['QUIROFANO'] = cx['QUIROFANO'].replace(['sala 2', 'quirofano 2'], '2')\n",
        "cx['QUIROFANO'] = cx['QUIROFANO'].replace(['sala 3', 'quirofano 3'], '3')\n",
        "cx['QUIROFANO'] = cx['QUIROFANO'].replace(['sala 4', 'quirofano 4'], '4')\n",
        "cx['QUIROFANO'] = cx['QUIROFANO'].replace({'sala 5': '5'})\n",
        "cx['QUIROFANO'] = cx['QUIROFANO'].replace({'sala 6': '6'})\n",
        "cx['QUIROFANO'] = cx['QUIROFANO'].replace({'sala 7': '7'})\n",
        "cx['QUIROFANO'] = cx['QUIROFANO'].replace({'sala 8': '8'})\n",
        "cx['QUIROFANO'] = cx['QUIROFANO'].replace({'sala 9': '9'})\n",
        "cx['QUIROFANO'] = cx['QUIROFANO'].replace({'sala 10': '10'})\n",
        "cx['QUIROFANO'] = cx['QUIROFANO'].replace({'sala 11': '11'})\n",
        "cx['QUIROFANO'] = cx['QUIROFANO'].replace({'sala 12': '12'})\n",
        "cx['QUIROFANO'] = cx['QUIROFANO'].replace({'sala 13': '13'})\n",
        "cx['QUIROFANO'] = cx['QUIROFANO'].replace({'sala 14': '14'})\n",
        "cx['TIPO PROCEDIMIENTO'] = cx['TIPO PROCEDIMIENTO'].replace({'quirurgicas': 'quirurgico'})\n",
        "cx['TIPO PROCEDIMIENTO'] = cx['TIPO PROCEDIMIENTO'].replace({'quirurgicos': 'quirurgico'})\n",
        "cx['TIPO PROCEDIMIENTO'] = cx['TIPO PROCEDIMIENTO'].replace({'cirugias': 'quirurgico'})\n",
        "cx['TIPO DE HERIDA'] = cx['TIPO DE HERIDA'].replace(['no registra', 'no aplica'], 'sin informe quirurgico')\n",
        "cx['ESPECIALIDAD'] = cx['ESPECIALIDAD'].replace(['cirugia gastroenterologia - cpre', 'gineco oncologia',\n",
        "       'cirugia cardiovascular', 'neumologia', 'medicina general', 'hepatobiliopancreatica', 'fisiatria',\n",
        "       'cirugia de cabeza y cuello', 'cirugia oncologica', 'cirugia maxilofacial', 'neurologia',\n",
        "       'cirugia hepatobiliopancreatica', 'odontologia', 'gine oncologia', 'oftalmologia', 'cirugia de trasplante',\n",
        "       'ortopedia oncologica'], 'otras cirugias')"
      ],
      "metadata": {
        "id": "amRYZsvm4xBn"
      },
      "execution_count": 60,
      "outputs": []
    },
    {
      "cell_type": "code",
      "source": [
        "# Imprimimos las categorías de las variables de nuevo para corrobar que se hayan homologado\n",
        "lista = ['SERVICIO HABILITACION', 'REGIMEN', 'DESCRIPCION EPS VALIDADA',\n",
        "       'ORIGEN ORDEN', 'ORIGEN ADMSION', 'QUIROFANO', 'TIPO PROCEDIMIENTO',\n",
        "       'TIPO DE ANESTESIA', 'VIA',\n",
        "       'TIPO DE HERIDA', 'ESPECIALIDAD']\n",
        "for i in lista:\n",
        "    print(cx[i].value_counts())\n",
        "    print('------------------------------------')"
      ],
      "metadata": {
        "colab": {
          "base_uri": "https://localhost:8080/"
        },
        "id": "8yOyGB3eDWk_",
        "outputId": "7c9f62eb-499b-4c1f-f12a-4d6117bf3d37"
      },
      "execution_count": 61,
      "outputs": [
        {
          "output_type": "stream",
          "name": "stdout",
          "text": [
            "cirugia ortopedica                  620\n",
            "cirugia general                     411\n",
            "otras cirugias                      297\n",
            "cirugia urologica                   153\n",
            "cirugia vascular y angiologica      150\n",
            "cirugia plastica y estetica         126\n",
            "cirugia ginecologica                 48\n",
            "cirugia otorrinolaringologia         39\n",
            "cirugia de torax                     37\n",
            "cirugia neurologica                  35\n",
            "neurocirugia                         19\n",
            "cirugia gastrointestinal             18\n",
            "cirugia cardiovascular               12\n",
            "cirugia oncologica                   11\n",
            "cirugia endovascular neurologica     10\n",
            "trasplante osteomuscular              2\n",
            "Name: SERVICIO HABILITACION, dtype: int64\n",
            "------------------------------------\n",
            "subsidiado      1438\n",
            "contributivo     413\n",
            "Name: REGIMEN, dtype: int64\n",
            "------------------------------------\n",
            "nueva eps s.a.    1087\n",
            "Name: DESCRIPCION EPS VALIDADA, dtype: int64\n",
            "------------------------------------\n",
            "ambulatorio          1038\n",
            "hospitalizacion       380\n",
            "urgencias adultos     162\n",
            "Name: ORIGEN ORDEN, dtype: int64\n",
            "------------------------------------\n",
            "cirugia                       650\n",
            "urgencias generales sotano    531\n",
            "hospitalizacion               309\n",
            "urgencias generales            60\n",
            "urgencias generales piso 1     22\n",
            "ambulatorio personal            6\n",
            "ambulatoria programada          1\n",
            "ambulatoria personal            1\n",
            "Name: ORIGEN ADMSION, dtype: int64\n",
            "------------------------------------\n",
            "12                    366\n",
            "sala procedimentos    289\n",
            "2                     250\n",
            "11                    207\n",
            "1                     175\n",
            "14                    175\n",
            "3                     168\n",
            "13                    164\n",
            "4                     104\n",
            "9                     102\n",
            "10                     96\n",
            "5                      90\n",
            "6                      76\n",
            "7                      59\n",
            "8                      49\n",
            "Name: QUIROFANO, dtype: int64\n",
            "------------------------------------\n",
            "quirurgico                1123\n",
            "procedimientos menores     289\n",
            "no quirurgico               35\n",
            "Name: TIPO PROCEDIMIENTO, dtype: int64\n",
            "------------------------------------\n",
            "general                   861\n",
            "raquidea                  387\n",
            "local                     284\n",
            "bloqueo                   111\n",
            "local asistida             83\n",
            "ninguna                    39\n",
            "epidural                    7\n",
            "caudal                      4\n",
            "sin informe quirurgico      1\n",
            "Name: TIPO DE ANESTESIA, dtype: int64\n",
            "------------------------------------\n",
            "unica via                                                      601\n",
            "multiple procedimiento mismo especialista igual via            304\n",
            "multiple procedimiento mismo especialista diferente via        176\n",
            "bilateral                                                        3\n",
            "multiple procedimiento diferente especialista igual via          2\n",
            "multiple procedimiento diferente especialista diferente via      1\n",
            "Name: VIA, dtype: int64\n",
            "------------------------------------\n",
            "limpia                    912\n",
            "limpia contaminada        402\n",
            "contaminada               289\n",
            "sucia                     234\n",
            "sin informe quirurgico    104\n",
            "Name: TIPO DE HERIDA, dtype: int64\n",
            "------------------------------------\n",
            "ortopedia                                      624\n",
            "cirugia general                                350\n",
            "dermatologia                                   315\n",
            "urologia                                       154\n",
            "otras cirugias                                 150\n",
            "cirugia vascular                               146\n",
            "medicina del dolor y cuidado paleativo         138\n",
            "cirugia plastica                                87\n",
            "medicina del dolor y cuidado paliativo          80\n",
            "neurocirugia                                    54\n",
            "endovascular (hemodinamia)                      45\n",
            "otorrinolaringologia                            41\n",
            "cirugia plastica- maxilofacial y de la mano     39\n",
            "anestesiologia                                  36\n",
            "cpre                                            35\n",
            "ginecologia                                     29\n",
            "cirugia torax                                   25\n",
            "odontologia general                             22\n",
            "Name: ESPECIALIDAD, dtype: int64\n",
            "------------------------------------\n"
          ]
        }
      ]
    }
  ]
}